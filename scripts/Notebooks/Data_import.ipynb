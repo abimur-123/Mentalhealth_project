{
 "cells": [
  {
   "cell_type": "markdown",
   "metadata": {},
   "source": [
    "# Data Import"
   ]
  },
  {
   "cell_type": "code",
   "execution_count": 7,
   "metadata": {
    "collapsed": true
   },
   "outputs": [],
   "source": [
    "# Author - Abishek Murali\n",
    "# Written - December 2017\n",
    "# This script take reads data from a URL and writes it into a csv file in the system\n",
    "# 1. URL to retrieve data from and \n",
    "# 2. Destination of raw data file"
   ]
  },
  {
   "cell_type": "code",
   "execution_count": 8,
   "metadata": {
    "collapsed": true
   },
   "outputs": [],
   "source": [
    "import pandas as pd\n",
    "import os"
   ]
  },
  {
   "cell_type": "code",
   "execution_count": 7,
   "metadata": {},
   "outputs": [
    {
     "data": {
      "text/plain": [
       "'results/data'"
      ]
     },
     "execution_count": 7,
     "metadata": {},
     "output_type": "execute_result"
    }
   ],
   "source": [
    "fn = 'results/data/raw_data.csv'\n",
    "di = fn.rsplit('/',1)[0]\n",
    "di\n"
   ]
  },
  {
   "cell_type": "code",
   "execution_count": 9,
   "metadata": {
    "collapsed": true
   },
   "outputs": [],
   "source": [
    "df = pd.read_csv('https://query.data.world/s/S5I_aMQV9aJMq2_o3qMmrvOMru1Sss') #URL obtained from https://data.world/kittybot/osmi-mental-health-tech-2016"
   ]
  },
  {
   "cell_type": "code",
   "execution_count": 14,
   "metadata": {
    "collapsed": true
   },
   "outputs": [],
   "source": [
    "fn = \"../data/raw_data.csv\" # location of raw data file\n",
    "di = \"../data\"\n",
    "if(df.shape[0] > 0):\n",
    "    if not os.path.exists(di):#checks if data directory exists, creates one otherwise\n",
    "        os.makedirs(di)\n",
    "    os.remove(fn) if os.path.exists(fn) else None # Remove file if already exists. Previous files get overwritten by newer version\n"
   ]
  },
  {
   "cell_type": "code",
   "execution_count": 15,
   "metadata": {},
   "outputs": [
    {
     "name": "stdout",
     "output_type": "stream",
     "text": [
      "Writing file to data folder as raw_data.csv\n",
      "Successfully created file\n",
      "End of program\n"
     ]
    }
   ],
   "source": [
    "print(\"Writing file to data folder as raw_data.csv\")\n",
    "df.to_csv(fn)\n",
    "print(\"Successfully created file\")\n",
    "print(\"End of program\")"
   ]
  }
 ],
 "metadata": {
  "kernelspec": {
   "display_name": "Python 3",
   "language": "python",
   "name": "python3"
  },
  "language_info": {
   "codemirror_mode": {
    "name": "ipython",
    "version": 3
   },
   "file_extension": ".py",
   "mimetype": "text/x-python",
   "name": "python",
   "nbconvert_exporter": "python",
   "pygments_lexer": "ipython3",
   "version": "3.6.1"
  }
 },
 "nbformat": 4,
 "nbformat_minor": 2
}
