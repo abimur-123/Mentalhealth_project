{
 "cells": [
  {
   "cell_type": "markdown",
   "metadata": {},
   "source": [
    "# Data cleansing"
   ]
  },
  {
   "cell_type": "code",
   "execution_count": 15,
   "metadata": {
    "collapsed": true
   },
   "outputs": [],
   "source": [
    "# Author - Abishek Murali\n",
    "# Written - December 2017\n",
    "# This script reads data from the raw data file, cleanses the data, creates a codebook and then \n",
    "# writes the codebook and cleansed data into a csv\n",
    "# 1. Raw data file to retrieve data and \n",
    "# 2. Destination of codebook file\n",
    "# 3. Destination of cleansed data file"
   ]
  },
  {
   "cell_type": "code",
   "execution_count": 16,
   "metadata": {
    "collapsed": true
   },
   "outputs": [],
   "source": [
    "import pandas as pd\n",
    "import numpy as np\n",
    "import seaborn as sns\n",
    "import matplotlib.pyplot as plt\n",
    "import os"
   ]
  },
  {
   "cell_type": "markdown",
   "metadata": {},
   "source": [
    "# Prepare codebook"
   ]
  },
  {
   "cell_type": "code",
   "execution_count": 17,
   "metadata": {
    "collapsed": true,
    "scrolled": true
   },
   "outputs": [],
   "source": [
    "data = pd.read_csv(\"../data/raw_data.csv\", encoding='latin-1')\n",
    "df = data.copy()\n",
    "df.columns = ['C'+ str(i + 1) for i in range(len(df.columns))] #encode column names with prefix 'C' followed by number\n",
    "d = zip(data.columns,df.columns)\n",
    "pd.options.display.max_rows = 65\n",
    "codebook = pd.DataFrame([dict(d)]).T.reset_index().rename(columns = {\"index\":\"Old_names\",0:\"New_names\"})\n",
    "\n",
    "if os.path.exists(\"../docs/Codebook.csv\"): # Write into codebook\n",
    "    os.remove(\"../docs/Codebook.csv\")\n",
    "    \n",
    "codebook.sort_values(by = ['New_names']).to_csv(\"../docs/Codebook.csv\",index=False)"
   ]
  },
  {
   "cell_type": "code",
   "execution_count": 18,
   "metadata": {},
   "outputs": [],
   "source": [
    "df.columns = ['C'+ str(i + 1) for i in range(len(data.columns))]"
   ]
  },
  {
   "cell_type": "code",
   "execution_count": 19,
   "metadata": {
    "scrolled": true
   },
   "outputs": [],
   "source": [
    "cb = pd.read_csv(\"../docs/Codebook.csv\", encoding='latin-1')"
   ]
  },
  {
   "cell_type": "markdown",
   "metadata": {},
   "source": [
    "# Cleansing data"
   ]
  },
  {
   "cell_type": "markdown",
   "metadata": {},
   "source": [
    "### Classifying gender into 3 groups for ease of analysis - Male, Female and NB"
   ]
  },
  {
   "cell_type": "code",
   "execution_count": 20,
   "metadata": {
    "scrolled": false
   },
   "outputs": [],
   "source": [
    "#df.C58.unique()"
   ]
  },
  {
   "cell_type": "code",
   "execution_count": 21,
   "metadata": {
    "collapsed": true
   },
   "outputs": [],
   "source": [
    "# clean the genders by grouping the genders into 3 categories: Female, Male, Genderqueer/Other\n",
    "# sourced from https://www.kaggle.com/jchen2186/data-visualization-with-python-seaborn\n",
    "\n",
    "df['C58'] = df['C58'].replace([\n",
    "    'male', 'Male ', 'M', 'm', 'man', 'Cis male',\n",
    "    'Male.', 'Male (cis)', 'Man', 'Sex is male',\n",
    "    'cis male', 'Malr', 'Dude', \"I'm a man why didn't you make this a drop down question. You should of asked sex? And I would of answered yes please. Seriously how much text can this take? \",\n",
    "    'mail', 'M|', 'male ', 'Cis Male', 'Male (trans, FtM)',\n",
    "    'cisdude', 'cis man', 'MALE'], 'Male')\n",
    "df['C58'] = df['C58'].replace([\n",
    "    'female', 'I identify as female.', 'female ',\n",
    "    'Female assigned at birth ', 'F', 'Woman', 'fm', 'f',\n",
    "    'Cis female', 'Transitioned, M2F', 'Female or Multi-Gender Femme',\n",
    "    'Female ', 'woman', 'female/woman', 'Cisgender Female', \n",
    "    'mtf', 'fem', 'Female (props for making this a freeform field, though)',\n",
    "    ' Female', 'Cis-woman', 'AFAB', 'Transgender woman',\n",
    "    'Cis female '], 'Female')\n",
    "df['C58'] = df['C58'].replace([\n",
    "    'Bigender', 'non-binary,', 'Genderfluid (born female)',\n",
    "    'Other/Transfeminine', 'Androgynous', 'male 9:1 female, roughly',\n",
    "    'nb masculine', 'genderqueer', 'Human', 'Genderfluid',\n",
    "    'Enby', 'genderqueer woman', 'Queer', 'Agender', 'Fluid',\n",
    "    'Genderflux demi-girl', 'female-bodied; no feelings about gender',\n",
    "    'non-binary', 'Male/genderqueer', 'Nonbinary', 'Other', 'none of your business',\n",
    "    'Unicorn', 'human', 'Genderqueer'], 'Non-binary')\n",
    "\n",
    "# replace the one null with Male, the mode gender, so we don't have to drop the row\n",
    "df['C58'] = df['C58'].replace(np.NaN, 'Male')"
   ]
  },
  {
   "cell_type": "markdown",
   "metadata": {},
   "source": [
    "### Removing self employed professionals from analysis for tech companies"
   ]
  },
  {
   "cell_type": "code",
   "execution_count": 22,
   "metadata": {
    "collapsed": true
   },
   "outputs": [],
   "source": [
    "#Removing self employed professionals for the sake of this analysis\n",
    "df = df.query('C2 == 0')"
   ]
  },
  {
   "cell_type": "code",
   "execution_count": 23,
   "metadata": {
    "collapsed": true,
    "scrolled": false
   },
   "outputs": [],
   "source": [
    "a = df.applymap(np.isreal).all()"
   ]
  },
  {
   "cell_type": "code",
   "execution_count": 24,
   "metadata": {
    "scrolled": false
   },
   "outputs": [],
   "source": [
    "# df.iloc[:,-np.where(a)[0]].head()"
   ]
  },
  {
   "cell_type": "markdown",
   "metadata": {},
   "source": [
    "# Summary tables"
   ]
  },
  {
   "cell_type": "code",
   "execution_count": 25,
   "metadata": {},
   "outputs": [],
   "source": [
    "string_sum = df.describe(include = [np.object])\n",
    "if os.path.exists(\"../results/Summary_strings.csv\"): # Write into string summary table\n",
    "    os.remove(\"../results/Summary_strings.csv\")\n",
    "    \n",
    "string_sum.to_csv(\"../results/Summary_strings.csv\")"
   ]
  },
  {
   "cell_type": "code",
   "execution_count": 26,
   "metadata": {},
   "outputs": [],
   "source": [
    "string_sum = df.describe(include = [np.object])\n",
    "if os.path.exists(\"../results/Summary_numeric.csv\"): # Write into numeric summary table\n",
    "    os.remove(\"../results/Summary_numeric.csv\")\n",
    "    \n",
    "string_sum.to_csv(\"../results/Summary_numeric.csv\")"
   ]
  },
  {
   "cell_type": "markdown",
   "metadata": {},
   "source": [
    "# Write cleansed data to file"
   ]
  },
  {
   "cell_type": "code",
   "execution_count": 27,
   "metadata": {
    "collapsed": true
   },
   "outputs": [],
   "source": [
    "df.to_csv(\"../data/cleansed_data.csv\")"
   ]
  }
 ],
 "metadata": {
  "kernelspec": {
   "display_name": "Python 3",
   "language": "python",
   "name": "python3"
  },
  "language_info": {
   "codemirror_mode": {
    "name": "ipython",
    "version": 3
   },
   "file_extension": ".py",
   "mimetype": "text/x-python",
   "name": "python",
   "nbconvert_exporter": "python",
   "pygments_lexer": "ipython3",
   "version": "3.6.1"
  }
 },
 "nbformat": 4,
 "nbformat_minor": 2
}
